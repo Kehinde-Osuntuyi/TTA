{
 "cells": [
  {
   "cell_type": "code",
   "execution_count": 1,
   "source": [
    "import numpy as np"
   ],
   "outputs": [],
   "metadata": {}
  },
  {
   "cell_type": "code",
   "execution_count": null,
   "source": [
    "array = np.array([1, 2, 3, 4, 5, 6, 7, 8, 9, 10])\n",
    "print(array)"
   ],
   "outputs": [
    {
     "output_type": "stream",
     "name": "stdout",
     "text": [
      "[ 1  2  3  4  5  6  7  8  9 10]\n"
     ]
    }
   ],
   "metadata": {}
  },
  {
   "cell_type": "code",
   "execution_count": null,
   "source": [
    "b = 'Hello, world!'\n",
    "len(b)\n",
    "b[:-8]"
   ],
   "outputs": [
    {
     "output_type": "execute_result",
     "data": {
      "text/plain": [
       "'Hello'"
      ]
     },
     "metadata": {},
     "execution_count": 11
    }
   ],
   "metadata": {}
  },
  {
   "cell_type": "code",
   "execution_count": 2,
   "source": [
    "import pandas as pd"
   ],
   "outputs": [],
   "metadata": {}
  },
  {
   "cell_type": "code",
   "execution_count": null,
   "source": [
    "inventory = {\"Code\" : [478, 467, 678], \"Produce\" : [\"Avocado\", \"Courgette\", \"Potato\"], \"Origin\" : [\"Mexico\", \"Costa rica\", \"Bolivia\"]}\n",
    "\n",
    "myframe = pd.DataFrame(inventory)\n",
    "\n",
    "print(inventory)\n",
    "print(myframe)"
   ],
   "outputs": [
    {
     "output_type": "stream",
     "name": "stdout",
     "text": [
      "{'Code': [478, 467, 678], 'Produce': ['Avocado', 'Courgette', 'Potato'], 'Origin': ['Mexico', 'Costa rica', 'Bolivia']}\n",
      "   Code    Produce      Origin\n",
      "0   478    Avocado      Mexico\n",
      "1   467  Courgette  Costa rica\n",
      "2   678     Potato     Bolivia\n"
     ]
    }
   ],
   "metadata": {}
  },
  {
   "cell_type": "code",
   "execution_count": null,
   "source": [
    "orange = 7\n",
    "apple = 9\n",
    "orange + apple"
   ],
   "outputs": [
    {
     "output_type": "execute_result",
     "data": {
      "text/plain": [
       "16"
      ]
     },
     "metadata": {},
     "execution_count": 1
    }
   ],
   "metadata": {}
  }
 ],
 "metadata": {
  "orig_nbformat": 4,
  "language_info": {
   "name": "python",
   "version": "3.8.11",
   "mimetype": "text/x-python",
   "codemirror_mode": {
    "name": "ipython",
    "version": 3
   },
   "pygments_lexer": "ipython3",
   "nbconvert_exporter": "python",
   "file_extension": ".py"
  },
  "kernelspec": {
   "name": "python3",
   "display_name": "Python 3.8.11 64-bit ('base': conda)"
  },
  "interpreter": {
   "hash": "fea9ebb3ff49ef39d968802e26de5732558ba4d0014e463a9f78ad092723faa2"
  }
 },
 "nbformat": 4,
 "nbformat_minor": 2
}